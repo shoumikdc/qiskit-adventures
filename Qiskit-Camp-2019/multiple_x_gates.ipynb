{
 "cells": [
  {
   "cell_type": "markdown",
   "metadata": {},
   "source": [
    "# Noise Mitigation on Multiple Pauli-X Gate Pairs:"
   ]
  },
  {
   "cell_type": "markdown",
   "metadata": {},
   "source": [
    "## Circuit:"
   ]
  },
  {
   "cell_type": "code",
   "execution_count": 1,
   "metadata": {},
   "outputs": [],
   "source": [
    "import numpy as np\n",
    "import matplotlib.pyplot as plt\n",
    "%matplotlib inline  \n",
    "\n",
    "import qiskit\n",
    "from qiskit import QuantumCircuit, QuantumRegister, ClassicalRegister\n",
    "from qiskit.tools import visualization as qplt\n",
    "\n",
    "import NoisyQuantumCircuit as NoisyQuantumCircuit"
   ]
  },
  {
   "cell_type": "code",
   "execution_count": 2,
   "metadata": {},
   "outputs": [],
   "source": [
    "from qiskit import Aer\n",
    "import qiskit.providers.aer as aer\n",
    "from qiskit.providers.aer import QasmSimulator, StatevectorSimulator, UnitarySimulator"
   ]
  },
  {
   "cell_type": "code",
   "execution_count": 3,
   "metadata": {},
   "outputs": [],
   "source": [
    "# Import the noise model object\n",
    "from qiskit.providers.aer.noise import NoiseModel\n",
    "\n",
    "# Import all standard errors\n",
    "from qiskit.providers.aer.noise.errors import *  \n",
    "\n",
    "# Import noise base clases\n",
    "from qiskit.providers.aer.noise.errors.quantum_error import QuantumError\n",
    "from qiskit.providers.aer.noise.errors.readout_error import ReadoutError"
   ]
  },
  {
   "cell_type": "code",
   "execution_count": 4,
   "metadata": {},
   "outputs": [],
   "source": [
    "def xSimPairs(gatePairCount, qReg, bitIdx, qNoisyCirc):\n",
    "\n",
    "    # Perform [count] pairs of hadarmards - should ideally equal to the identity\n",
    "    for i in range(gatePairCount):\n",
    "        qNoisyCirc.x(qReg[bitIdx])\n",
    "        qNoisyCirc.x(qReg[bitIdx])"
   ]
  },
  {
   "cell_type": "code",
   "execution_count": 5,
   "metadata": {},
   "outputs": [],
   "source": [
    "def CompileAndSimulate(gatePairCount, nQubits, bitIdx, errors1Qubit, errors2Qubit, numShots = 1024, debug = False):\n",
    "    \n",
    "    # Simulator, and constants\n",
    "    qSimulator = QasmSimulator() \n",
    "    \n",
    "    # System Specification\n",
    "    qReg = QuantumRegister(nQubits)\n",
    "    cReg = ClassicalRegister(nQubits)\n",
    "    #qNoisyCirc = NoisyQuantumCircuit.NoisyQuantumCircuit(qReg, cReg, nQubits, errors1Qubit, errors2Qubit)\n",
    "    \n",
    "    qCirc = QuantumCircuit(qReg,cReg)\n",
    "    \n",
    "    # Perform the X's\n",
    "    xSimPairs(gatePairCount = gatePairCount, qReg = qReg, bitIdx = bitIdx, qNoisyCirc = qCirc)\n",
    "    \n",
    "    # Measure\n",
    "    qCirc.measure(qReg, cReg)\n",
    "    \n",
    "    # Debug: Print the error model and plot the circuit\n",
    "    if(debug):\n",
    "        print(\"Errors: \")\n",
    "        for errors in zip(errors1Qubit, errors2Qubit):\n",
    "            print(errors)\n",
    "        #print(qNoisyCirc.draw())\n",
    "    \n",
    "    # Execute the noisy simulation\n",
    "    qNoisyCirc = NoisyQuantumCircuit.NoisyQuantumCircuit(qCirc, nQubits, errors1Qubit, errors2Qubit)\n",
    "    result = qiskit.execute(qNoisyCirc.getQuantumCircuit(), qSimulator, shots=numShots, \n",
    "                           basis_gates = qNoisyCirc.getNoiseModel().basis_gates,\n",
    "                           noise_model = qNoisyCirc.getNoiseModel()).result()\n",
    "    counts = result.get_counts(0)\n",
    "\n",
    "    if(debug):\n",
    "        print(counts)\n",
    "    \n",
    "    return counts"
   ]
  },
  {
   "cell_type": "markdown",
   "metadata": {},
   "source": [
    "## Try with one simulation - Thermal Relaxation T1 noise"
   ]
  },
  {
   "cell_type": "code",
   "execution_count": 6,
   "metadata": {},
   "outputs": [
    {
     "name": "stdout",
     "output_type": "stream",
     "text": [
      "Errors: \n",
      "(QuantumError([([{'name': 'kraus', 'qubits': [0], 'params': [array([[1.        , 0.        ],\n",
      "       [0.        , 0.99739922]]), array([[0.        , 0.07207492],\n",
      "       [0.        , 0.        ]])]}], 1)]), QuantumError([([{'name': 'kraus', 'qubits': [0, 1], 'params': [array([[1.        , 0.        , 0.        , 0.        ],\n",
      "       [0.        , 0.99739922, 0.        , 0.        ],\n",
      "       [0.        , 0.        , 0.99739922, 0.        ],\n",
      "       [0.        , 0.        , 0.        , 0.99480521]]), array([[0.        , 0.        , 0.07207492, 0.        ],\n",
      "       [0.        , 0.        , 0.        , 0.07188746],\n",
      "       [0.        , 0.        , 0.        , 0.        ],\n",
      "       [0.        , 0.        , 0.        , 0.        ]]), array([[0.        , 0.07207492, 0.        , 0.        ],\n",
      "       [0.        , 0.        , 0.        , 0.        ],\n",
      "       [0.        , 0.        , 0.        , 0.07188746],\n",
      "       [0.        , 0.        , 0.        , 0.        ]]), array([[0.        , 0.        , 0.        , 0.00519479],\n",
      "       [0.        , 0.        , 0.        , 0.        ],\n",
      "       [0.        , 0.        , 0.        , 0.        ],\n",
      "       [0.        , 0.        , 0.        , 0.        ]])]}], 1)]))\n",
      "{'0': 997, '1': 27}\n",
      "{'0': 997, '1': 27}\n"
     ]
    },
    {
     "data": {
      "image/png": "[encoded data removed]",
      "text/plain": [
       "<Figure size 504x360 with 1 Axes>"
      ]
     },
     "execution_count": 6,
     "metadata": {},
     "output_type": "execute_result"
    }
   ],
   "source": [
    "T1 = 12000  # nanoseconds\n",
    "T2 = T1 * 2 # nanoseconds\n",
    "Tau0 = 50   # nanoseconds    \n",
    "pulseWidth = 1.25*Tau0\n",
    "\n",
    "thermalError1bit = thermal_relaxation_error(T1, T2, pulseWidth)\n",
    "thermalError2bit = thermal_relaxation_error(T1, T2, pulseWidth).kron(\n",
    "                    thermal_relaxation_error(T1, T2, pulseWidth))\n",
    "\n",
    "\n",
    "counts = CompileAndSimulate(gatePairCount = 5, nQubits = 1, bitIdx = 0, debug = True, \n",
    "                            errors1Qubit = [thermalError1bit], errors2Qubit = [thermalError2bit])\n",
    "\n",
    "print(counts)\n",
    "qplt.plot_histogram(counts)"
   ]
  },
  {
   "cell_type": "markdown",
   "metadata": {},
   "source": [
    "## Multiple Simulations"
   ]
  },
  {
   "cell_type": "code",
   "execution_count": null,
   "metadata": {},
   "outputs": [],
   "source": [
    "nPoints = 20\n",
    "stretchFactors = [1, 1.25, 2, 3, 4, 5]\n",
    "gatePairCounts = [x*10 for x in range(nPoints)]\n",
    "yAggregator = []\n",
    "numShots = 4096\n",
    "\n",
    "for sf in stretchFactors:\n",
    "    y = []\n",
    "    \n",
    "    for gpc in gatePairCounts:\n",
    "        \n",
    "        # Thermal Relaxation Error - T1\n",
    "        T1 = 12000  # nanoseconds\n",
    "        T2 = T1 * 2 # nanoseconds\n",
    "        Tau0 = 50   # nanoseconds\n",
    "        pulseWidth = sf * Tau0 \n",
    "        \n",
    "        thermalError1bit = thermal_relaxation_error(T1, T2, pulseWidth)\n",
    "        thermalError2bit = thermal_relaxation_error(T1, T2, pulseWidth).kron(\n",
    "                            thermal_relaxation_error(T1, T2, pulseWidth))\n",
    "        \n",
    "        counts = CompileAndSimulate(gatePairCount = gpc, nQubits = 1, bitIdx = 0, numShots = numShots,\n",
    "                                    errors1Qubit = [thermalError1bit], errors2Qubit = [thermalError2bit])\n",
    "        \n",
    "        if(counts[\"0\"] == None): \n",
    "            p = 0\n",
    "        else:\n",
    "            p = counts[\"0\"]/numShots\n",
    "            \n",
    "        y.append(p)\n",
    "    \n",
    "    yAggregator.append(y)\n",
    "    plt.plot(gatePairCounts, y, label=\"stretch factor = {0}\".format(sf))\n",
    "\n",
    "plt.legend()\n",
    "plt.show()"
   ]
  },
  {
   "cell_type": "markdown",
   "metadata": {},
   "source": [
    "## Extrapolate to Maximize Noise Mitigation"
   ]
  },
  {
   "cell_type": "code",
   "execution_count": null,
   "metadata": {},
   "outputs": [],
   "source": [
    "deg = 2\n",
    "\n",
    "yFitted = []\n",
    "errFitted = []\n",
    "\n",
    "for j in range(nPoints):\n",
    "    y = []\n",
    "    for i in range(len(stretchFactors)):\n",
    "        y.append(yAggregator[i][j])\n",
    "        \n",
    "    p, V = np.polyfit(stretchFactors, y, deg, cov = True)\n",
    "    yFitted.append(np.max(p[deg], 0))\n",
    "    errFitted.append(np.sqrt(V[deg][deg]))\n",
    "\n",
    "for run in range(len(stretchFactors)):\n",
    "    plt.plot(gatePairCounts, yAggregator[run], label=\"Stretch Factor = {0}\".format(stretchFactors[run]))\n",
    "\n",
    "plt.errorbar(gatePairCounts, yFitted, yerr=errFitted, label=\"Mitigated\")\n",
    "\n",
    "plt.legend()\n",
    "plt.show()"
   ]
  },
  {
   "cell_type": "markdown",
   "metadata": {},
   "source": [
    "# Other Errors:"
   ]
  },
  {
   "cell_type": "markdown",
   "metadata": {},
   "source": [
    "### 1. Pauli Errors -- Doesn't work yet!"
   ]
  },
  {
   "cell_type": "code",
   "execution_count": null,
   "metadata": {},
   "outputs": [],
   "source": [
    "# Generate Data\n",
    "nPoints = 20\n",
    "probailities = [0.001, 0.01, 0.05, 0.1, 0.15]\n",
    "gatePairCounts = [x*10 for x in range(nPoints)]\n",
    "yAggregator = []\n",
    "\n",
    "for pb in probailities:\n",
    "    y = []\n",
    "    \n",
    "    for gpc in gatePairCounts:\n",
    "        \n",
    "        # Thermal Relaxation Error - T1\n",
    "        pauliErr = pauli_error([('X', pb), ('I', 1 - pb)])\n",
    "        \n",
    "        counts = CompileAndSimulate(gatePairCount = gpc, nQubits = 1, bitIdx = 0, \n",
    "                                    errors1Qubit = [pauliErr], errors2Qubit = [])\n",
    "        \n",
    "        if(counts[\"0\"] == None): \n",
    "            p = 0\n",
    "        else:\n",
    "            p = counts[\"0\"]/1024\n",
    "            \n",
    "        y.append(p)\n",
    "    \n",
    "    yAggregator.append(y)\n",
    "    \n",
    "# Extrapolate\n",
    "deg = 2\n",
    "\n",
    "yFitted = []\n",
    "errFitted = []\n",
    "\n",
    "for j in range(nPoints):\n",
    "    y = []\n",
    "    for i in range(len(probabilities)):\n",
    "        y.append(yAggregator[i][j])\n",
    "        \n",
    "    p, V = np.polyfit(stretchFactors, y, deg, cov = True)\n",
    "    yFitted.append(np.max(p[deg], 0))\n",
    "    errFitted.append(np.sqrt(V[deg][deg]))\n",
    "\n",
    "for run in range(len(stretchFactors)):\n",
    "    plt.plot(gatePairCounts, yAggregator[run], label=\"Stretch Factor = {0}\".format(stretchFactors[run]))\n",
    "\n",
    "plt.errorbar(gatePairCounts, yFitted, yerr=errFitted, label=\"Mitigated\")\n",
    "\n",
    "plt.legend()\n",
    "plt.show()    \n",
    "    "
   ]
  }
 ],
 "metadata": {
  "kernelspec": {
   "display_name": "Python 3",
   "language": "python",
   "name": "python3"
  },
  "language_info": {
   "codemirror_mode": {
    "name": "ipython",
    "version": 3
   },
   "file_extension": ".py",
   "mimetype": "text/x-python",
   "name": "python",
   "nbconvert_exporter": "python",
   "pygments_lexer": "ipython3",
   "version": "3.8.3"
  }
 },
 "nbformat": 4,
 "nbformat_minor": 2
}
