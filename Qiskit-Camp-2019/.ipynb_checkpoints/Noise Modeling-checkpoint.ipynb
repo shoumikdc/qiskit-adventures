{
 "cells": [
  {
   "cell_type": "code",
   "execution_count": 66,
   "metadata": {},
   "outputs": [],
   "source": [
    "import numpy as np\n",
    "\n",
    "# Import Qiskit\n",
    "from qiskit import QuantumCircuit, QuantumRegister, ClassicalRegister\n",
    "from qiskit import Aer, execute\n",
    "from qiskit.tools.visualization import plot_histogram, plot_state_city"
   ]
  },
  {
   "cell_type": "code",
   "execution_count": 67,
   "metadata": {},
   "outputs": [],
   "source": [
    "from qiskit.providers.aer import QasmSimulator, StatevectorSimulator, UnitarySimulator\n",
    "import random\n",
    "from cmath import *\n"
   ]
  },
  {
   "cell_type": "code",
   "execution_count": 151,
   "metadata": {},
   "outputs": [],
   "source": [
    "def get_random_state():\n",
    "    theta = np.pi*random.random()\n",
    "    phi = 2*np.pi*random.random()\n",
    "\n",
    "    a = np.cos(theta/2)\n",
    "    b = rect(1,phi)*np.sin(theta/2)\n",
    "    \n",
    "    return a, b\n"
   ]
  },
  {
   "cell_type": "code",
   "execution_count": 152,
   "metadata": {},
   "outputs": [
    {
     "name": "stdout",
     "output_type": "stream",
     "text": [
      "        ┌───┐     ┌───┐ ░ ┌─┐ ░           \n",
      "q_0: |0>┤ X ├──■──┤ H ├─░─┤M├─░───────────\n",
      "        └───┘┌─┴─┐└───┘ ░ └╥┘ ░ ┌─────┐┌─┐\n",
      "q_1: |0>─────┤ X ├──────░──╫──░─┤  Z  ├┤M├\n",
      "             └───┘      ░  ║  ░ ├──┴──┤└╥┘\n",
      "c0_0: 0 ═══════════════════╩════╡ = 1 ╞═╬═\n",
      "                                └─────┘ ║ \n",
      "c1_0: 0 ════════════════════════════════╩═\n",
      "                                          \n"
     ]
    }
   ],
   "source": [
    "## figure out how to get random numbers\n",
    "a0,b0 = get_random_state()\n",
    "\n",
    "q = QuantumRegister(2, \"q\")\n",
    "c0 = ClassicalRegister(1, \"c0\")\n",
    "c1 = ClassicalRegister(1, \"c1\")\n",
    "qc = QuantumCircuit(q, c0, c1, name=\"teleport\")\n",
    "\n",
    "# Create initial state\n",
    "# opts = {\"initial_statevector\": np.array([a0, 0, b0, 0])}\n",
    "#opts = {\"initial_statevector\": np.array([1, 0, 1, 0] / np.sqrt(2))}\n",
    "\n",
    "qc.x(q[0])\n",
    "\n",
    "qc.cx(q[0], q[1])\n",
    "qc.h(q[0])\n",
    "\n",
    "qc.barrier(q)\n",
    "qc.measure(q[0], c0[0])\n",
    "\n",
    "qc.barrier(q)\n",
    "qc.z(q[1]).c_if(c0, 1)\n",
    "\n",
    "qc.measure(q[1], c1[0])\n",
    "\n",
    "print(qc.draw())"
   ]
  },
  {
   "cell_type": "code",
   "execution_count": 153,
   "metadata": {
    "scrolled": true
   },
   "outputs": [
    {
     "name": "stdout",
     "output_type": "stream",
     "text": [
      "0.2980358060634901 (0.8667237150255956+0.3999558227058532j)\n"
     ]
    },
    {
     "data": {
      "image/png": "[encoded data removed]",
      "text/plain": [
       "<Figure size 504x360 with 1 Axes>"
      ]
     },
     "execution_count": 153,
     "metadata": {},
     "output_type": "execute_result"
    }
   ],
   "source": [
    "# Select the StatevectorSimulator from the Aer provider\n",
    "simulator = Aer.get_backend('statevector_simulator')\n",
    "\n",
    "# Execute and get counts\n",
    "'''result = execute(circ, simulator, backend_options=opts).result()\n",
    "statevector = result.get_statevector(circ)\n",
    "plot_state_city(statevector, title=\"Bell initial statevector\")'''\n",
    "\n",
    "print(a0,b0)\n",
    "result = execute(qc, simulator, backend_options=opts).result()\n",
    "counts = result.get_counts(qc)\n",
    "plot_histogram(counts, title=\"hi\")\n"
   ]
  },
  {
   "cell_type": "code",
   "execution_count": 10,
   "metadata": {},
   "outputs": [],
   "source": [
    "# Import the noise model object\n",
    "from qiskit.providers.aer.noise import NoiseModel\n",
    "\n",
    "# Import all standard errors\n",
    "from qiskit.providers.aer.noise.errors import *  \n",
    "\n",
    "# Import noise base clases\n",
    "from qiskit.providers.aer.noise.errors.quantum_error import QuantumError\n",
    "from qiskit.providers.aer.noise.errors.readout_error import ReadoutError"
   ]
  },
  {
   "cell_type": "code",
   "execution_count": 18,
   "metadata": {},
   "outputs": [],
   "source": [
    "def ampdamp(lamb, p1):\n",
    "    error = amplitude_damping_error(lamb, p1)\n",
    "    return error\n"
   ]
  },
  {
   "cell_type": "code",
   "execution_count": 19,
   "metadata": {},
   "outputs": [
    {
     "name": "stdout",
     "output_type": "stream",
     "text": [
      "NoiseModel:\n",
      "  Instructions with noise: ['u2', 'u1', 'u3']\n",
      "  All-qubits errors: ['u1', 'u2', 'u3']\n"
     ]
    }
   ],
   "source": [
    "# Create an empty noise model\n",
    "noise_model = NoiseModel()\n",
    "\n",
    "ampdamp = ampdamp(0.5,1)\n",
    "\n",
    "# Add depolarizing error to all single qubit u1, u2, u3 gates\n",
    "noise_model.add_all_qubit_quantum_error(ampdamp, ['u1', 'u2', 'u3'])\n",
    "\n",
    "# Print noise model info\n",
    "print(noise_model)\n"
   ]
  },
  {
   "cell_type": "code",
   "execution_count": 22,
   "metadata": {},
   "outputs": [
    {
     "name": "stdout",
     "output_type": "stream",
     "text": [
      "         ┌───┐┌───┐┌───┐┌───┐┌───┐┌───┐┌───┐┌───┐┌───┐┌───┐┌─┐\n",
      "q1_0: |0>┤ H ├┤ H ├┤ H ├┤ H ├┤ H ├┤ H ├┤ H ├┤ H ├┤ H ├┤ H ├┤M├\n",
      "         └───┘└───┘└───┘└───┘└───┘└───┘└───┘└───┘└───┘└───┘└╥┘\n",
      " c1_0: 0 ═══════════════════════════════════════════════════╩═\n",
      "                                                              \n"
     ]
    }
   ],
   "source": [
    "# Simulator\n",
    "simulator = QasmSimulator()\n",
    "\n",
    "# System Specification\n",
    "n_qubits = 1\n",
    "qr = QuantumRegister(n_qubits)\n",
    "cr = ClassicalRegister(n_qubits)\n",
    "circ = QuantumCircuit(qr, cr)\n",
    "\n",
    "# Test Circuit\n",
    "\n",
    "num_gates = 10 # an even number\n",
    "\n",
    "for i in range(num_gates):\n",
    "    circ.h(qr[0])\n",
    "circ.measure(qr, cr)\n",
    "print(circ.draw())"
   ]
  },
  {
   "cell_type": "code",
   "execution_count": 30,
   "metadata": {},
   "outputs": [
    {
     "data": {
      "text/plain": [
       "'hi'"
      ]
     },
     "execution_count": 30,
     "metadata": {},
     "output_type": "execute_result"
    }
   ],
   "source": [
    "aggreg = {0:\"hi\"}\n",
    "aggreg[0]"
   ]
  },
  {
   "cell_type": "code",
   "execution_count": 37,
   "metadata": {},
   "outputs": [
    {
     "ename": "NameError",
     "evalue": "name 'param' is not defined",
     "output_type": "error",
     "traceback": [
      "\u001b[0;31m---------------------------------------------------------------------------\u001b[0m",
      "\u001b[0;31mNameError\u001b[0m                                 Traceback (most recent call last)",
      "\u001b[0;32m<ipython-input-37-fbf9a8632733>\u001b[0m in \u001b[0;36m<module>\u001b[0;34m\u001b[0m\n\u001b[1;32m      7\u001b[0m                     \u001b[0munit\u001b[0m\u001b[0;34m=\u001b[0m\u001b[0mUnitsType\u001b[0m\u001b[0;34m.\u001b[0m\u001b[0mANGSTROM\u001b[0m\u001b[0;34m,\u001b[0m\u001b[0;34m\u001b[0m\u001b[0;34m\u001b[0m\u001b[0m\n\u001b[1;32m      8\u001b[0m                     basis='sto3g')\n\u001b[0;32m----> 9\u001b[0;31m \u001b[0mmolecule\u001b[0m \u001b[0;34m=\u001b[0m \u001b[0mdriver\u001b[0m\u001b[0;34m.\u001b[0m\u001b[0mrun\u001b[0m\u001b[0;34m(\u001b[0m\u001b[0;34m)\u001b[0m\u001b[0;34m\u001b[0m\u001b[0;34m\u001b[0m\u001b[0m\n\u001b[0m\u001b[1;32m     10\u001b[0m \u001b[0mnum_particles\u001b[0m \u001b[0;34m=\u001b[0m \u001b[0mmolecule\u001b[0m\u001b[0;34m.\u001b[0m\u001b[0mnum_alpha\u001b[0m \u001b[0;34m+\u001b[0m \u001b[0mmolecule\u001b[0m\u001b[0;34m.\u001b[0m\u001b[0mnum_beta\u001b[0m\u001b[0;34m\u001b[0m\u001b[0;34m\u001b[0m\u001b[0m\n\u001b[1;32m     11\u001b[0m \u001b[0mnum_spin_orbitals\u001b[0m \u001b[0;34m=\u001b[0m \u001b[0mmolecule\u001b[0m\u001b[0;34m.\u001b[0m\u001b[0mnum_orbitals\u001b[0m \u001b[0;34m*\u001b[0m \u001b[0;36m2\u001b[0m\u001b[0;34m\u001b[0m\u001b[0;34m\u001b[0m\u001b[0m\n",
      "\u001b[0;32m~/anaconda3/envs/qiskit/lib/python3.7/site-packages/qiskit_chemistry/drivers/pyscfd/pyscfdriver.py\u001b[0m in \u001b[0;36mrun\u001b[0;34m(self)\u001b[0m\n\u001b[1;32m    150\u001b[0m                                  \u001b[0mspin\u001b[0m\u001b[0;34m=\u001b[0m\u001b[0mself\u001b[0m\u001b[0;34m.\u001b[0m\u001b[0m_spin\u001b[0m\u001b[0;34m,\u001b[0m\u001b[0;34m\u001b[0m\u001b[0;34m\u001b[0m\u001b[0m\n\u001b[1;32m    151\u001b[0m                                  \u001b[0mbasis\u001b[0m\u001b[0;34m=\u001b[0m\u001b[0mself\u001b[0m\u001b[0;34m.\u001b[0m\u001b[0m_basis\u001b[0m\u001b[0;34m,\u001b[0m\u001b[0;34m\u001b[0m\u001b[0;34m\u001b[0m\u001b[0m\n\u001b[0;32m--> 152\u001b[0;31m                                  max_memory=self._max_memory)\n\u001b[0m",
      "\u001b[0;32m~/anaconda3/envs/qiskit/lib/python3.7/site-packages/qiskit_chemistry/drivers/pyscfd/integrals.py\u001b[0m in \u001b[0;36mcompute_integrals\u001b[0;34m(atom, unit, charge, spin, basis, max_memory, calc_type)\u001b[0m\n\u001b[1;32m     45\u001b[0m     \u001b[0matom\u001b[0m \u001b[0;34m=\u001b[0m \u001b[0m_check_molecule_format\u001b[0m\u001b[0;34m(\u001b[0m\u001b[0matom\u001b[0m\u001b[0;34m)\u001b[0m\u001b[0;34m\u001b[0m\u001b[0;34m\u001b[0m\u001b[0m\n\u001b[1;32m     46\u001b[0m     \u001b[0;32mif\u001b[0m \u001b[0mmax_memory\u001b[0m \u001b[0;32mis\u001b[0m \u001b[0;32mNone\u001b[0m\u001b[0;34m:\u001b[0m\u001b[0;34m\u001b[0m\u001b[0;34m\u001b[0m\u001b[0m\n\u001b[0;32m---> 47\u001b[0;31m         \u001b[0mmax_memory\u001b[0m \u001b[0;34m=\u001b[0m \u001b[0mparam\u001b[0m\u001b[0;34m.\u001b[0m\u001b[0mMAX_MEMORY\u001b[0m\u001b[0;34m\u001b[0m\u001b[0;34m\u001b[0m\u001b[0m\n\u001b[0m\u001b[1;32m     48\u001b[0m     \u001b[0mcalc_type\u001b[0m \u001b[0;34m=\u001b[0m \u001b[0mcalc_type\u001b[0m\u001b[0;34m.\u001b[0m\u001b[0mlower\u001b[0m\u001b[0;34m(\u001b[0m\u001b[0;34m)\u001b[0m\u001b[0;34m\u001b[0m\u001b[0;34m\u001b[0m\u001b[0m\n\u001b[1;32m     49\u001b[0m \u001b[0;34m\u001b[0m\u001b[0m\n",
      "\u001b[0;31mNameError\u001b[0m: name 'param' is not defined"
     ]
    }
   ],
   "source": [
    "from qiskit_chemistry import FermionicOperator\n",
    "from qiskit_chemistry.drivers import PySCFDriver, UnitsType\n",
    "\n",
    "# Use PySCF, a classical computational chemistry software package, to compute the one-body and two-body integrals in\n",
    "# molecular-orbital basis, necessary to form the Fermionic operator\n",
    "driver = PySCFDriver(atom='H .0 .0 .0; H .0 .0 0.735',\n",
    "                    unit=UnitsType.ANGSTROM,\n",
    "                    basis='sto3g')\n",
    "molecule = driver.run()\n",
    "num_particles = molecule.num_alpha + molecule.num_beta\n",
    "num_spin_orbitals = molecule.num_orbitals * 2\n",
    "\n",
    "# Build the qubit operator, which is the input to the VQE algorithm in Aqua\n",
    "ferOp = FermionicOperator(h1=molecule.one_body_integrals, h2=molecule.two_body_integrals)\n",
    "map_type = 'PARITY'\n",
    "qubitOp = ferOp.mapping(map_type)\n",
    "qubitOp = qubitOp.two_qubit_reduced_operator(num_particles)\n",
    "num_qubits = qubitOp.num_qubits\n",
    "\n",
    "# set the backend for the quantum computation\n",
    "from qiskit import Aer\n",
    "backend = Aer.get_backend('statevector_simulator')\n",
    "\n",
    "# setup a classical optimizer for VQE\n",
    "from qiskit.aqua.components.optimizers import L_BFGS_B\n",
    "optimizer = L_BFGS_B()\n",
    "\n",
    "# setup the initial state for the variational form\n",
    "from qiskit.chemistry.aqua_extensions.components.initial_states import HartreeFock\n",
    "init_state = HartreeFock(num_qubits, num_spin_orbitals, num_particles)\n",
    "\n",
    "# setup the variational form for VQE\n",
    "from qiskit.aqua.components.variational_forms import RYRZ\n",
    "var_form = RYRZ(num_qubits, initial_state=init_state)\n",
    "\n",
    "# setup and run VQE\n",
    "from qiskit.aqua.algorithms import VQE\n",
    "algorithm = VQE(qubitOp, var_form, optimizer)\n",
    "result = algorithm.run(backend)\n",
    "print(result['energy'])"
   ]
  },
  {
   "cell_type": "code",
   "execution_count": null,
   "metadata": {},
   "outputs": [],
   "source": []
  }
 ],
 "metadata": {
  "kernelspec": {
   "display_name": "Python 3",
   "language": "python",
   "name": "python3"
  },
  "language_info": {
   "codemirror_mode": {
    "name": "ipython",
    "version": 3
   },
   "file_extension": ".py",
   "mimetype": "text/x-python",
   "name": "python",
   "nbconvert_exporter": "python",
   "pygments_lexer": "ipython3",
   "version": "3.8.3"
  }
 },
 "nbformat": 4,
 "nbformat_minor": 2
}
