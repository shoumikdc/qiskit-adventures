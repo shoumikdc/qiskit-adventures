{
 "cells": [
  {
   "cell_type": "code",
   "execution_count": 31,
   "metadata": {},
   "outputs": [],
   "source": [
    "import numpy as np\n",
    "import matplotlib.pyplot as plt\n",
    "\n",
    "# Import Qiskit\n",
    "from qiskit import QuantumCircuit, QuantumRegister, ClassicalRegister\n",
    "from qiskit import Aer, execute\n",
    "from qiskit.tools.visualization import plot_histogram, plot_state_city"
   ]
  },
  {
   "cell_type": "code",
   "execution_count": 32,
   "metadata": {},
   "outputs": [],
   "source": [
    "from qiskit.providers.aer import QasmSimulator, StatevectorSimulator, UnitarySimulator\n",
    "import random\n",
    "from cmath import *"
   ]
  },
  {
   "cell_type": "code",
   "execution_count": 33,
   "metadata": {},
   "outputs": [],
   "source": [
    "def get_random_state():\n",
    "    theta = np.pi*random.random()\n",
    "    phi = 2*np.pi*random.random()\n",
    "\n",
    "    a = np.cos(theta/2)\n",
    "    b = rect(1,phi)*np.sin(theta/2)\n",
    "    \n",
    "    return a, b, theta, phi"
   ]
  },
  {
   "cell_type": "code",
   "execution_count": 34,
   "metadata": {},
   "outputs": [
    {
     "name": "stdout",
     "output_type": "stream",
     "text": [
      "0.8922058015335582 (-0.09019630020507659+0.44253071660527316j)\n"
     ]
    },
    {
     "data": {
      "text/html": [
       "<pre style=\"word-wrap: normal;white-space: pre;line-height: 15px;\">        ┌──────────────────────┐     ┌───┐ ░ ┌─┐          \n",
       "q_0: |0>┤ U3(0.93718,1.7719,0) ├──■──┤ H ├─░─┤M├──────────\n",
       "        └──────────────────────┘┌─┴─┐└───┘ ░ └╥┘┌─────┐┌─┐\n",
       "q_1: |0>────────────────────────┤ X ├──────░──╫─┤  Z  ├┤M├\n",
       "                                └───┘      ░  ║ ├──┴──┤└╥┘\n",
       " c_0: 0 ══════════════════════════════════════╩═╡     ╞═╬═\n",
       "                                                │ = 1 │ ║ \n",
       " c_1: 0 ════════════════════════════════════════╡     ╞═╩═\n",
       "                                                └─────┘   </pre>"
      ],
      "text/plain": [
       "<qiskit.tools.visualization._text.TextDrawing at 0x7ab13d155f28>"
      ]
     },
     "execution_count": 34,
     "metadata": {},
     "output_type": "execute_result"
    }
   ],
   "source": [
    "# Construct quantum circuit without measure\n",
    "a0,b0, theta, phi = get_random_state()\n",
    "print(a0,b0)\n",
    "\n",
    "'''q = QuantumRegister(2, \"q\")\n",
    "c0 = ClassicalRegister(1, \"c0\")\n",
    "c1 = ClassicalRegister(1, \"c1\")\n",
    "qc = QuantumCircuit(q, c0, c1)\n",
    "\n",
    "# Create initial state by rotating by theta and phi\n",
    "qc.u3(theta, phi, 0, q[0])\n",
    "\n",
    "qc.cx(q[0], q[1])\n",
    "qc.h(q[0])\n",
    "\n",
    "qc.barrier(q)\n",
    "qc.measure(q[0], c0[0])\n",
    "\n",
    "#qc.barrier(q)\n",
    "qc.z(q[1]).c_if(c0, 1)\n",
    "\n",
    "qc.measure(q[1], c1[0])\n",
    "\n",
    "qc.draw()'''\n",
    "\n",
    "q = QuantumRegister(2, \"q\")\n",
    "c = ClassicalRegister(2, \"c\")\n",
    "qc = QuantumCircuit(q, c)\n",
    "\n",
    "# Create initial state by rotating by theta and phi\n",
    "qc.u3(theta, phi, 0, q[0])\n",
    "################################\n",
    "qc.cx(q[0], q[1])\n",
    "qc.h(q[0])\n",
    "\n",
    "qc.barrier(q)\n",
    "qc.measure(q[0], c[0])\n",
    "\n",
    "qc.z(q[1]).c_if(c, 1)\n",
    "\n",
    "# final\n",
    "qc.measure(q[1], c[1])\n",
    "qc.draw()\n",
    "\n",
    "# Execute and get counts\n",
    "#result = execute(qc, simulator).result()\n",
    "#statevector = result.get_statevector(qc)\n",
    "#plot_state_city(statevector, title='Bell state')"
   ]
  },
  {
   "cell_type": "code",
   "execution_count": 41,
   "metadata": {},
   "outputs": [],
   "source": [
    "# Select the StatevectorSimulator from the Aer provider\n",
    "import NoisyQuantumCircuit as NoisyQuantumCircuit\n",
    "# Import the noise model object\n",
    "from qiskit.providers.aer.noise import NoiseModel\n",
    "\n",
    "# Import all standard errors\n",
    "from qiskit.providers.aer.noise.errors import *  \n",
    "\n",
    "# Import noise base clases\n",
    "from qiskit.providers.aer.noise.errors.quantum_error import QuantumError\n",
    "from qiskit.providers.aer.noise.errors.readout_error import ReadoutError\n",
    "\n",
    "T1 = 12000  # nanoseconds\n",
    "T2 = T1 * 2 # nanoseconds\n",
    "Tau0 = 50   # nanoseconds    \n",
    "pulseWidth = 1.25*Tau0\n",
    "\n",
    "thermalError1bit = thermal_relaxation_error(T1, T2, pulseWidth)\n",
    "thermalError2bit = thermal_relaxation_error(T1, T2, pulseWidth).kron(\n",
    "                    thermal_relaxation_error(T1, T2, pulseWidth))\n",
    "\n",
    "\n",
    "errors1Qubit = [thermalError1bit]\n",
    "errors2Qubit = [thermalError2bit]\n"
   ]
  },
  {
   "cell_type": "code",
   "execution_count": 36,
   "metadata": {},
   "outputs": [],
   "source": [
    "simulator = Aer.get_backend('qasm_simulator')\n",
    "\n",
    "qNoisyCirc = NoisyQuantumCircuit.NoisyQuantumCircuit(qc, 2, errors1Qubit, errors2Qubit)\n",
    "result = execute(qNoisyCirc.getQuantumCircuit(), simulator, shots=10000, \n",
    "                           basis_gates = qNoisyCirc.getNoiseModel().basis_gates,\n",
    "                           noise_model = qNoisyCirc.getNoiseModel()).result()\n",
    "data = result.get_counts()"
   ]
  },
  {
   "cell_type": "code",
   "execution_count": 37,
   "metadata": {},
   "outputs": [
    {
     "data": {
      "image/png": "[encoded data removed]",
      "text/plain": [
       "<Figure size 504x360 with 1 Axes>"
      ]
     },
     "execution_count": 37,
     "metadata": {},
     "output_type": "execute_result"
    }
   ],
   "source": [
    "# data = teleport_result.get_counts(qc)\n",
    "plot_histogram(data, title=\"hi\")"
   ]
  },
  {
   "cell_type": "code",
   "execution_count": 38,
   "metadata": {},
   "outputs": [
    {
     "data": {
      "image/png": "[encoded data removed]",
      "text/plain": [
       "<Figure size 504x360 with 1 Axes>"
      ]
     },
     "execution_count": 38,
     "metadata": {},
     "output_type": "execute_result"
    }
   ],
   "source": [
    "bob = {}\n",
    "bob['0'] = data['00'] + data['01']\n",
    "bob['1'] = data['10'] + data['11'] \n",
    "plot_histogram(bob)"
   ]
  },
  {
   "cell_type": "code",
   "execution_count": 39,
   "metadata": {},
   "outputs": [
    {
     "name": "stdout",
     "output_type": "stream",
     "text": [
      "Initial amp: 0.8922058015335582 (-0.09019630020507659+0.44253071660527316j)\n",
      "Initial mag: 0.8922058015335582 0.4516290598598156\n",
      "Final amp: 0.8921883209278185 0.45166359162544856\n",
      "0.9999999992509928\n"
     ]
    }
   ],
   "source": [
    "a1 = np.sqrt(bob['0']/(bob['0']+bob['1']))\n",
    "b1 = np.sqrt(bob['1']/(bob['0']+bob['1']))\n",
    "\n",
    "print(\"Initial amp:\",a0,b0)\n",
    "\n",
    "mag_a0 = np.sqrt(a0*a0.conjugate()).real\n",
    "mag_b0 = np.sqrt(b0*b0.conjugate()).real\n",
    "\n",
    "print(\"Initial mag:\", mag_a0, mag_b0)\n",
    "print(\"Final amp:\", a1, b1)\n",
    "\n",
    "fidelity = ((mag_a0*a1) + (mag_b0*b1)).real\n",
    "\n",
    "print(fidelity)"
   ]
  },
  {
   "cell_type": "code",
   "execution_count": null,
   "metadata": {},
   "outputs": [],
   "source": []
  },
  {
   "cell_type": "code",
   "execution_count": null,
   "metadata": {},
   "outputs": [],
   "source": []
  }
 ],
 "metadata": {
  "kernelspec": {
   "display_name": "Python 3",
   "language": "python",
   "name": "python3"
  },
  "language_info": {
   "codemirror_mode": {
    "name": "ipython",
    "version": 3
   },
   "file_extension": ".py",
   "mimetype": "text/x-python",
   "name": "python",
   "nbconvert_exporter": "python",
   "pygments_lexer": "ipython3",
   "version": "3.7.2"
  }
 },
 "nbformat": 4,
 "nbformat_minor": 2
}
